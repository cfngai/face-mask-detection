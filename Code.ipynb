{
  "cells": [
    {
      "cell_type": "code",
      "execution_count": 1,
      "metadata": {
        "colab": {
          "base_uri": "https://localhost:8080/"
        },
        "id": "9KLj3aFH2ap5",
        "outputId": "414f7d4f-71cc-415a-d23b-83abf272de91"
      },
      "outputs": [
        {
          "output_type": "stream",
          "name": "stdout",
          "text": [
            "Mounted at /content/gdrive\n"
          ]
        }
      ],
      "source": [
        "from google.colab import drive\n",
        "drive.mount('/content/gdrive')\n"
      ]
    },
    {
      "cell_type": "code",
      "source": [
        "!pip install mediapipe"
      ],
      "metadata": {
        "colab": {
          "base_uri": "https://localhost:8080/"
        },
        "id": "JxtdyxkLH2l7",
        "outputId": "bb39c5bb-008f-47c2-f414-054350589e07"
      },
      "execution_count": 2,
      "outputs": [
        {
          "output_type": "stream",
          "name": "stdout",
          "text": [
            "Looking in indexes: https://pypi.org/simple, https://us-python.pkg.dev/colab-wheels/public/simple/\n",
            "Collecting mediapipe\n",
            "  Downloading mediapipe-0.9.0-cp37-cp37m-manylinux_2_17_x86_64.manylinux2014_x86_64.whl (33.0 MB)\n",
            "\u001b[K     |████████████████████████████████| 33.0 MB 1.2 MB/s \n",
            "\u001b[?25hRequirement already satisfied: absl-py in /usr/local/lib/python3.7/dist-packages (from mediapipe) (1.3.0)\n",
            "Collecting flatbuffers>=2.0\n",
            "  Downloading flatbuffers-22.11.23-py2.py3-none-any.whl (26 kB)\n",
            "Requirement already satisfied: protobuf<4,>=3.11 in /usr/local/lib/python3.7/dist-packages (from mediapipe) (3.19.6)\n",
            "Requirement already satisfied: matplotlib in /usr/local/lib/python3.7/dist-packages (from mediapipe) (3.2.2)\n",
            "Requirement already satisfied: numpy in /usr/local/lib/python3.7/dist-packages (from mediapipe) (1.21.6)\n",
            "Requirement already satisfied: opencv-contrib-python in /usr/local/lib/python3.7/dist-packages (from mediapipe) (4.6.0.66)\n",
            "Requirement already satisfied: attrs>=19.1.0 in /usr/local/lib/python3.7/dist-packages (from mediapipe) (22.1.0)\n",
            "Requirement already satisfied: cycler>=0.10 in /usr/local/lib/python3.7/dist-packages (from matplotlib->mediapipe) (0.11.0)\n",
            "Requirement already satisfied: pyparsing!=2.0.4,!=2.1.2,!=2.1.6,>=2.0.1 in /usr/local/lib/python3.7/dist-packages (from matplotlib->mediapipe) (3.0.9)\n",
            "Requirement already satisfied: python-dateutil>=2.1 in /usr/local/lib/python3.7/dist-packages (from matplotlib->mediapipe) (2.8.2)\n",
            "Requirement already satisfied: kiwisolver>=1.0.1 in /usr/local/lib/python3.7/dist-packages (from matplotlib->mediapipe) (1.4.4)\n",
            "Requirement already satisfied: typing-extensions in /usr/local/lib/python3.7/dist-packages (from kiwisolver>=1.0.1->matplotlib->mediapipe) (4.1.1)\n",
            "Requirement already satisfied: six>=1.5 in /usr/local/lib/python3.7/dist-packages (from python-dateutil>=2.1->matplotlib->mediapipe) (1.15.0)\n",
            "Installing collected packages: flatbuffers, mediapipe\n",
            "  Attempting uninstall: flatbuffers\n",
            "    Found existing installation: flatbuffers 1.12\n",
            "    Uninstalling flatbuffers-1.12:\n",
            "      Successfully uninstalled flatbuffers-1.12\n",
            "\u001b[31mERROR: pip's dependency resolver does not currently take into account all the packages that are installed. This behaviour is the source of the following dependency conflicts.\n",
            "tensorflow 2.9.2 requires flatbuffers<2,>=1.12, but you have flatbuffers 22.11.23 which is incompatible.\u001b[0m\n",
            "Successfully installed flatbuffers-22.11.23 mediapipe-0.9.0\n"
          ]
        }
      ]
    },
    {
      "cell_type": "markdown",
      "source": [
        "# 1. Data Preprocessing\n",
        "In this stage, the faces part of each sample are extracted and store into /data/ folder for the consecutive procedures.\n",
        "\n",
        "This was done in local before uploading to drive due to easy management."
      ],
      "metadata": {
        "id": "ianwo9PnOx9I"
      }
    },
    {
      "cell_type": "markdown",
      "source": [
        "First Attempt: Using OpenCV with Haarcascade model to extract the face from the sample. However, it was NOT used due to low accuracy."
      ],
      "metadata": {
        "id": "xwRTuS2HPLDL"
      }
    },
    {
      "cell_type": "code",
      "source": [
        "#### NOT BEING USED ####\n",
        "import cv2\n",
        "import matplotlib.pyplot as plt\n",
        "\n",
        "\n",
        "def crop_face_not_used(file, direcotry):\n",
        "\n",
        "    img = cv2.imread(file)\n",
        "    gray = cv2.cvtColor(img, cv2.COLOR_BGR2GRAY)\n",
        "\n",
        "    face_cascade = cv2.CascadeClassifier(cv2.data.haarcascades + 'haarcascade_frontalface_default.xml')\n",
        "    # List of faces found\n",
        "    faces = face_cascade.detectMultiScale(gray, 1.1, 4)\n",
        "    for (x, y, w, h) in faces:\n",
        "        cv2.rectangle(img, (x, y), (x+w, y+h), (0, 0, 255), 2)\n",
        "        face = img[y:y + h, x:x + w]\n",
        "        #cv2.imshow('face', face)\n",
        "        plt.imshow(face)\n",
        "        #cv2.imwrite('face.jpg', face)\n",
        "    # Display and store the output\n",
        "    #cv2.imwrite('detcted.jpg', img)\n",
        "    #plt.imshow(img)\n",
        "    return False\n",
        "\n",
        "\n",
        "path_of_the_directory= ''\n",
        "# Example of inaccurate pixels extracted\n",
        "crop_face_not_used(path_of_the_directory+'/content/gdrive/MyDrive/COMP4211 Project/dataset/1/pra3.jpg',None)\n"
      ],
      "metadata": {
        "colab": {
          "base_uri": "https://localhost:8080/",
          "height": 285
        },
        "id": "exvr1fjhPDzX",
        "outputId": "6c7b3343-d182-4461-d197-05cebec5dbeb"
      },
      "execution_count": 3,
      "outputs": [
        {
          "output_type": "execute_result",
          "data": {
            "text/plain": [
              "False"
            ]
          },
          "metadata": {},
          "execution_count": 3
        },
        {
          "output_type": "display_data",
          "data": {
            "text/plain": [
              "<Figure size 432x288 with 1 Axes>"
            ],
            "image/png": "[encoded data removed]"
          },
          "metadata": {
            "needs_background": "light"
          }
        }
      ]
    },
    {
      "cell_type": "markdown",
      "source": [
        "Second attempt: Using MediaPipe model to extract the faces. (High accuracy)"
      ],
      "metadata": {
        "id": "TSl3CV73QSbd"
      }
    },
    {
      "cell_type": "code",
      "source": [
        "import cv2\n",
        "import mediapipe as mp\n",
        "import matplotlib.pyplot as plt\n",
        "\n",
        "mp_face_detection = mp.solutions.face_detection\n",
        "\n",
        "# Face extraction function\n",
        "def crop_face(file):\n",
        "    global mp_face_detection\n",
        "    \n",
        "    # Load the model\n",
        "    face_detection = mp_face_detection.FaceDetection(model_selection=1, min_detection_confidence=0.5)\n",
        "    \n",
        "    image = cv2.imread(file)\n",
        "    height, width, channels = image.shape\n",
        "    \n",
        "    # Fetch the result of faces\n",
        "    results = face_detection.process(cv2.cvtColor(image, cv2.COLOR_BGR2RGB))\n",
        "\n",
        "    # If faces cannot be extracted, use the original image as the result of extraction\n",
        "    if not results.detections:\n",
        "        return image\n",
        "\n",
        "    for detection in results.detections:\n",
        "        # Get the location of x and y coordinate, following with the width and height of the face extracted\n",
        "        x_min = max(0, int(detection.location_data.relative_bounding_box.xmin * width))\n",
        "        y_min = max(0, int(detection.location_data.relative_bounding_box.ymin * height))\n",
        "        _width = min(width, int(detection.location_data.relative_bounding_box.width * width))\n",
        "        _height = min(height, int(detection.location_data.relative_bounding_box.height * height))\n",
        "        # Return the pixels containing the faces\n",
        "        face = image[y_min:y_min + _height, x_min:x_min + _width]\n",
        "        return face\n",
        "    # Wont reach here, in case unexpected error happen, returning the original image\n",
        "    return image\n"
      ],
      "metadata": {
        "id": "H27yp5mjQWhn"
      },
      "execution_count": 4,
      "outputs": []
    },
    {
      "cell_type": "markdown",
      "source": [
        "Read the images from /dataset/, and do the extraction to all samples, storing the results to /data/ for model training and evaluation.\n",
        "\n",
        "It cannot run in collab because of the incomplete path. It was done in local directory and uploaded to google drive"
      ],
      "metadata": {
        "id": "s5o3pEkURxpr"
      }
    },
    {
      "cell_type": "code",
      "source": [
        "import os\n",
        "import csv\n",
        "import cv2\n",
        "import random\n",
        "\n",
        "dataset_path = './dataset/'\n",
        "\n",
        "# Make directories of the cropped data\n",
        "if not os.path.exists('./data/'):\n",
        "    os.mkdir('./data/')\n",
        "if not os.path.exists('./data/train/'):\n",
        "    os.mkdir('./data/train/')\n",
        "if not os.path.exists('./data/valid/'):\n",
        "    os.mkdir('./data/valid/')\n",
        "if not os.path.exists('./data/test/'):\n",
        "    os.mkdir('./data/test/')\n",
        "\n",
        "# Non-Masked Face\n",
        "dataset_path_non_masked = dataset_path +'0/'\n",
        "num_of_sample = len(os.listdir(dataset_path_non_masked))\n",
        "\n",
        "# Dividing the dataset into training set, validation set and test set,\n",
        "# with proportion 80%, 10% and 10% respectively.\n",
        "valid_size = (int) (num_of_sample * 0.1)\n",
        "test_size = (int) (num_of_sample * 0.1)\n",
        "train_size = num_of_sample - valid_size - test_size\n",
        "\n",
        "if not os.path.exists('./data/train/0/'):\n",
        "    os.mkdir('./data/train/0/')\n",
        "if not os.path.exists('./data/valid/0/'):\n",
        "    os.mkdir('./data/valid/0/')\n",
        "if not os.path.exists('./data/test/0/'):\n",
        "    os.mkdir('./data/test/0/')\n",
        "    \n",
        "for file in os.listdir(dataset_path_non_masked):\n",
        "    f = os.path.join(dataset_path_non_masked,file)\n",
        "    # Divide data set\n",
        "    rand = random.uniform(0, 1.0)\n",
        "\n",
        "    if rand < 0.1 and valid_size > 0:\n",
        "        face = crop_face(f)\n",
        "        cv2.imwrite('./data/valid/0/'+file,face)\n",
        "        valid_size -= 1\n",
        "    elif rand < 0.2 and test_size > 0:\n",
        "        face = crop_face(f)\n",
        "        cv2.imwrite('./data/test/0/'+file,face)\n",
        "        test_size -= 1\n",
        "    else:\n",
        "        if train_size > 0:\n",
        "            face = crop_face(f)\n",
        "            cv2.imwrite('./data/train/0/'+file,face)\n",
        "            train_size -= 1\n",
        "        elif valid_size > 0:\n",
        "            face = crop_face(f)\n",
        "            cv2.imwrite('./data/valid/0/'+file,face)\n",
        "            valid_size -= 1\n",
        "        else:\n",
        "            face = crop_face(f)\n",
        "            cv2.imwrite('./data/test/0/'+file,face)\n",
        "            test_size -= 1\n",
        "\n",
        "# Masked Face\n",
        "dataset_path_masked = dataset_path +'1/'\n",
        "num_of_sample = len(os.listdir(dataset_path_masked))\n",
        "valid_size = (int) (num_of_sample * 0.1)\n",
        "test_size = (int) (num_of_sample * 0.1)\n",
        "train_size = num_of_sample - valid_size - test_size\n",
        "\n",
        "if not os.path.exists('./data/train/1/'):\n",
        "    os.mkdir('./data/train/1/')\n",
        "if not os.path.exists('./data/valid/1/'):\n",
        "    os.mkdir('./data/valid/1/')\n",
        "if not os.path.exists('./data/test/1/'):\n",
        "    os.mkdir('./data/test/1/')\n",
        "    \n",
        "for file in os.listdir(dataset_path_masked):\n",
        "    f = os.path.join(dataset_path_masked,file)\n",
        "    # Divide data set\n",
        "    rand = random.uniform(0, 1.0)\n",
        "\n",
        "    if rand < 0.1 and valid_size > 0:\n",
        "        face = crop_face(f)\n",
        "        cv2.imwrite('./data/valid/1/'+file,face)\n",
        "        valid_size -= 1\n",
        "    elif rand < 0.2 and test_size > 0:\n",
        "        face = crop_face(f)\n",
        "        cv2.imwrite('./data/test/1/'+file,face)\n",
        "        test_size -= 1\n",
        "    else:\n",
        "        if train_size > 0:\n",
        "            face = crop_face(f)\n",
        "            cv2.imwrite('./data/train/1/'+file,face)\n",
        "            train_size -= 1\n",
        "        elif valid_size > 0:\n",
        "            face = crop_face(f)\n",
        "            cv2.imwrite('./data/valid/1/'+file,face)\n",
        "            valid_size -= 1\n",
        "        else:\n",
        "            face = crop_face(f)\n",
        "            cv2.imwrite('./data/test/1/'+file,face)\n",
        "            test_size -= 1"
      ],
      "metadata": {
        "colab": {
          "base_uri": "https://localhost:8080/",
          "height": 237
        },
        "id": "CSXlO0EnRvev",
        "outputId": "68094eed-2393-4b77-f4aa-e47e49b39a45"
      },
      "execution_count": 5,
      "outputs": [
        {
          "output_type": "error",
          "ename": "FileNotFoundError",
          "evalue": "ignored",
          "traceback": [
            "\u001b[0;31m---------------------------------------------------------------------------\u001b[0m",
            "\u001b[0;31mFileNotFoundError\u001b[0m                         Traceback (most recent call last)",
            "\u001b[0;32m<ipython-input-5-79571099eeb7>\u001b[0m in \u001b[0;36m<module>\u001b[0;34m\u001b[0m\n\u001b[1;32m     18\u001b[0m \u001b[0;31m# Non-Masked Face\u001b[0m\u001b[0;34m\u001b[0m\u001b[0;34m\u001b[0m\u001b[0;34m\u001b[0m\u001b[0m\n\u001b[1;32m     19\u001b[0m \u001b[0mdataset_path_non_masked\u001b[0m \u001b[0;34m=\u001b[0m \u001b[0mdataset_path\u001b[0m \u001b[0;34m+\u001b[0m\u001b[0;34m'0/'\u001b[0m\u001b[0;34m\u001b[0m\u001b[0;34m\u001b[0m\u001b[0m\n\u001b[0;32m---> 20\u001b[0;31m \u001b[0mnum_of_sample\u001b[0m \u001b[0;34m=\u001b[0m \u001b[0mlen\u001b[0m\u001b[0;34m(\u001b[0m\u001b[0mos\u001b[0m\u001b[0;34m.\u001b[0m\u001b[0mlistdir\u001b[0m\u001b[0;34m(\u001b[0m\u001b[0mdataset_path_non_masked\u001b[0m\u001b[0;34m)\u001b[0m\u001b[0;34m)\u001b[0m\u001b[0;34m\u001b[0m\u001b[0;34m\u001b[0m\u001b[0m\n\u001b[0m\u001b[1;32m     21\u001b[0m \u001b[0;34m\u001b[0m\u001b[0m\n\u001b[1;32m     22\u001b[0m \u001b[0;31m# Dividing the dataset into training set, validation set and test set,\u001b[0m\u001b[0;34m\u001b[0m\u001b[0;34m\u001b[0m\u001b[0;34m\u001b[0m\u001b[0m\n",
            "\u001b[0;31mFileNotFoundError\u001b[0m: [Errno 2] No such file or directory: './dataset/0/'"
          ]
        }
      ]
    },
    {
      "cell_type": "markdown",
      "source": [
        "# 2. Model Implementation and training"
      ],
      "metadata": {
        "id": "vSO8-mciSViM"
      }
    },
    {
      "cell_type": "code",
      "execution_count": 15,
      "metadata": {
        "colab": {
          "base_uri": "https://localhost:8080/"
        },
        "id": "KYzpP6cXNWrn",
        "outputId": "52a167cd-c6bb-48f9-9bb1-6e352dc6a32c"
      },
      "outputs": [
        {
          "output_type": "stream",
          "name": "stdout",
          "text": [
            "Found 1102 images belonging to 2 classes.\n",
            "Found 137 images belonging to 2 classes.\n",
            "Found 137 images belonging to 2 classes.\n"
          ]
        }
      ],
      "source": [
        "from keras.preprocessing.image import ImageDataGenerator\n",
        "\n",
        "train_datagen = ImageDataGenerator(rescale=1.0/255,\n",
        "                                   rotation_range=40,\n",
        "                                   width_shift_range=0.2,\n",
        "                                   height_shift_range=0.2,\n",
        "                                   shear_range=0.2,\n",
        "                                   zoom_range=0.2,\n",
        "                                   horizontal_flip=True,\n",
        "                                   fill_mode='nearest')\n",
        "train_generator = train_datagen.flow_from_directory('/content/gdrive/MyDrive/COMP4211 Project/data/train', \n",
        "                                                    batch_size=10, \n",
        "                                                    target_size=(150, 150), class_mode='binary')\n",
        "\n",
        "valid_datagen = ImageDataGenerator(rescale=1.0/255)\n",
        "valid_generator = valid_datagen.flow_from_directory('/content/gdrive/MyDrive/COMP4211 Project/data/valid', \n",
        "                                                         batch_size=10, \n",
        "                                                         target_size=(150, 150), class_mode='binary')\n",
        "\n",
        "test_datagen = ImageDataGenerator(rescale=1.0/255)\n",
        "test_generator = test_datagen.flow_from_directory('/content/gdrive/MyDrive/COMP4211 Project/data/test', \n",
        "                                                         batch_size=10, \n",
        "                                                         target_size=(150, 150), class_mode='binary', shuffle=False)"
      ]
    },
    {
      "cell_type": "code",
      "source": [
        "from keras.models import Sequential\n",
        "from keras.layers import Conv2D, MaxPooling2D, Flatten, Dense,Dropout\n",
        "from keras.callbacks import ModelCheckpoint\n",
        "\n",
        "# Building sequential model\n",
        "model = Sequential([\n",
        "    Conv2D(32, (3,3), activation='relu', input_shape=(150, 150, 3)),\n",
        "    MaxPooling2D(2,2),\n",
        "    Conv2D(64, (3,3), activation='relu'),\n",
        "    MaxPooling2D(2,2),\n",
        "    Conv2D(128, (3,3), activation='relu'),\n",
        "    MaxPooling2D(2,2),\n",
        "    Conv2D(256, (3,3), activation='relu'),\n",
        "    MaxPooling2D(2,2),\n",
        "    \n",
        "    Dropout(0.5),\n",
        "    Flatten(),\n",
        "    Dense(128, activation='relu'),\n",
        "    Dropout(0.1),\n",
        "    Dense(256, activation='relu'),\n",
        "    Dropout(0.25),\n",
        "    Dense(2, activation='softmax')\n",
        "])\n",
        "\n",
        "checkpoint = ModelCheckpoint('/content/gdrive/MyDrive/COMP4211 Project/best_model.model',monitor='val_loss',verbose=0,save_best_only=True,mode='auto')\n",
        "model.compile(optimizer='adam', loss='sparse_categorical_crossentropy', metrics=['acc'])\n",
        "model.fit(train_generator, epochs=10, validation_data = valid_generator, callbacks=[checkpoint])"
      ],
      "metadata": {
        "colab": {
          "base_uri": "https://localhost:8080/"
        },
        "id": "bklcYyZ5IQYg",
        "outputId": "19eaddaf-e789-458e-a3a7-50a4541d34e1"
      },
      "execution_count": 7,
      "outputs": [
        {
          "output_type": "stream",
          "name": "stdout",
          "text": [
            "Epoch 1/10\n",
            "111/111 [==============================] - ETA: 0s - loss: 0.3407 - acc: 0.8203"
          ]
        },
        {
          "output_type": "stream",
          "name": "stderr",
          "text": [
            "WARNING:absl:Found untraced functions such as _jit_compiled_convolution_op, _jit_compiled_convolution_op, _jit_compiled_convolution_op, _jit_compiled_convolution_op while saving (showing 4 of 4). These functions will not be directly callable after loading.\n"
          ]
        },
        {
          "output_type": "stream",
          "name": "stdout",
          "text": [
            "\b\b\b\b\b\b\b\b\b\b\b\b\b\b\b\b\b\b\b\b\b\b\b\b\b\b\b\b\b\b\b\b\b\b\b\b\b\b\b\b\b\b\b\b\b\b\b\b\b\b\b\b\b\b\b\b\b\b\b\b\b\b\b\b\b\b\b\b\b\b\b\b\b\b\b\b\b\b\b\r111/111 [==============================] - 195s 2s/step - loss: 0.3407 - acc: 0.8203 - val_loss: 0.0373 - val_acc: 0.9854\n",
            "Epoch 2/10\n",
            "111/111 [==============================] - ETA: 0s - loss: 0.1120 - acc: 0.9701"
          ]
        },
        {
          "output_type": "stream",
          "name": "stderr",
          "text": [
            "WARNING:absl:Found untraced functions such as _jit_compiled_convolution_op, _jit_compiled_convolution_op, _jit_compiled_convolution_op, _jit_compiled_convolution_op while saving (showing 4 of 4). These functions will not be directly callable after loading.\n"
          ]
        },
        {
          "output_type": "stream",
          "name": "stdout",
          "text": [
            "\b\b\b\b\b\b\b\b\b\b\b\b\b\b\b\b\b\b\b\b\b\b\b\b\b\b\b\b\b\b\b\b\b\b\b\b\b\b\b\b\b\b\b\b\b\b\b\b\b\b\b\b\b\b\b\b\b\b\b\b\b\b\b\b\b\b\b\b\b\b\b\b\b\b\b\b\b\b\b\r111/111 [==============================] - 9s 84ms/step - loss: 0.1120 - acc: 0.9701 - val_loss: 0.0211 - val_acc: 0.9927\n",
            "Epoch 3/10\n",
            "111/111 [==============================] - 8s 72ms/step - loss: 0.1362 - acc: 0.9519 - val_loss: 0.0757 - val_acc: 0.9635\n",
            "Epoch 4/10\n",
            "111/111 [==============================] - ETA: 0s - loss: 0.1785 - acc: 0.9365"
          ]
        },
        {
          "output_type": "stream",
          "name": "stderr",
          "text": [
            "WARNING:absl:Found untraced functions such as _jit_compiled_convolution_op, _jit_compiled_convolution_op, _jit_compiled_convolution_op, _jit_compiled_convolution_op while saving (showing 4 of 4). These functions will not be directly callable after loading.\n"
          ]
        },
        {
          "output_type": "stream",
          "name": "stdout",
          "text": [
            "\b\b\b\b\b\b\b\b\b\b\b\b\b\b\b\b\b\b\b\b\b\b\b\b\b\b\b\b\b\b\b\b\b\b\b\b\b\b\b\b\b\b\b\b\b\b\b\b\b\b\b\b\b\b\b\b\b\b\b\b\b\b\b\b\b\b\b\b\b\b\b\b\b\b\b\b\b\b\b\r111/111 [==============================] - 9s 85ms/step - loss: 0.1785 - acc: 0.9365 - val_loss: 0.0131 - val_acc: 0.9927\n",
            "Epoch 5/10\n",
            "111/111 [==============================] - ETA: 0s - loss: 0.1281 - acc: 0.9555"
          ]
        },
        {
          "output_type": "stream",
          "name": "stderr",
          "text": [
            "WARNING:absl:Found untraced functions such as _jit_compiled_convolution_op, _jit_compiled_convolution_op, _jit_compiled_convolution_op, _jit_compiled_convolution_op while saving (showing 4 of 4). These functions will not be directly callable after loading.\n"
          ]
        },
        {
          "output_type": "stream",
          "name": "stdout",
          "text": [
            "\b\b\b\b\b\b\b\b\b\b\b\b\b\b\b\b\b\b\b\b\b\b\b\b\b\b\b\b\b\b\b\b\b\b\b\b\b\b\b\b\b\b\b\b\b\b\b\b\b\b\b\b\b\b\b\b\b\b\b\b\b\b\b\b\b\b\b\b\b\b\b\b\b\b\b\b\b\b\b\r111/111 [==============================] - 10s 87ms/step - loss: 0.1281 - acc: 0.9555 - val_loss: 0.0076 - val_acc: 1.0000\n",
            "Epoch 6/10\n",
            "111/111 [==============================] - 8s 72ms/step - loss: 0.0731 - acc: 0.9791 - val_loss: 0.0168 - val_acc: 0.9927\n",
            "Epoch 7/10\n",
            "111/111 [==============================] - ETA: 0s - loss: 0.0867 - acc: 0.9737"
          ]
        },
        {
          "output_type": "stream",
          "name": "stderr",
          "text": [
            "WARNING:absl:Found untraced functions such as _jit_compiled_convolution_op, _jit_compiled_convolution_op, _jit_compiled_convolution_op, _jit_compiled_convolution_op while saving (showing 4 of 4). These functions will not be directly callable after loading.\n"
          ]
        },
        {
          "output_type": "stream",
          "name": "stdout",
          "text": [
            "\b\b\b\b\b\b\b\b\b\b\b\b\b\b\b\b\b\b\b\b\b\b\b\b\b\b\b\b\b\b\b\b\b\b\b\b\b\b\b\b\b\b\b\b\b\b\b\b\b\b\b\b\b\b\b\b\b\b\b\b\b\b\b\b\b\b\b\b\b\b\b\b\b\b\b\b\b\b\b\r111/111 [==============================] - 9s 85ms/step - loss: 0.0867 - acc: 0.9737 - val_loss: 0.0047 - val_acc: 1.0000\n",
            "Epoch 8/10\n",
            "111/111 [==============================] - 8s 72ms/step - loss: 0.0750 - acc: 0.9764 - val_loss: 0.0402 - val_acc: 0.9854\n",
            "Epoch 9/10\n",
            "111/111 [==============================] - ETA: 0s - loss: 0.0888 - acc: 0.9637"
          ]
        },
        {
          "output_type": "stream",
          "name": "stderr",
          "text": [
            "WARNING:absl:Found untraced functions such as _jit_compiled_convolution_op, _jit_compiled_convolution_op, _jit_compiled_convolution_op, _jit_compiled_convolution_op while saving (showing 4 of 4). These functions will not be directly callable after loading.\n"
          ]
        },
        {
          "output_type": "stream",
          "name": "stdout",
          "text": [
            "\b\b\b\b\b\b\b\b\b\b\b\b\b\b\b\b\b\b\b\b\b\b\b\b\b\b\b\b\b\b\b\b\b\b\b\b\b\b\b\b\b\b\b\b\b\b\b\b\b\b\b\b\b\b\b\b\b\b\b\b\b\b\b\b\b\b\b\b\b\b\b\b\b\b\b\b\b\b\b\r111/111 [==============================] - 9s 84ms/step - loss: 0.0888 - acc: 0.9637 - val_loss: 0.0035 - val_acc: 1.0000\n",
            "Epoch 10/10\n",
            "111/111 [==============================] - 8s 73ms/step - loss: 0.0678 - acc: 0.9791 - val_loss: 0.1724 - val_acc: 0.8978\n"
          ]
        },
        {
          "output_type": "execute_result",
          "data": {
            "text/plain": [
              "<keras.callbacks.History at 0x7fbe54be2890>"
            ]
          },
          "metadata": {},
          "execution_count": 7
        }
      ]
    },
    {
      "cell_type": "code",
      "source": [
        "\n",
        "model.evaluate(test_generator)\n",
        "model.summary()"
      ],
      "metadata": {
        "colab": {
          "base_uri": "https://localhost:8080/"
        },
        "id": "t9QKvFs1ISpj",
        "outputId": "3bfd192e-9c43-4a38-9d7b-6bbffea708be"
      },
      "execution_count": 8,
      "outputs": [
        {
          "output_type": "stream",
          "name": "stdout",
          "text": [
            "14/14 [==============================] - 32s 2s/step - loss: 0.0985 - acc: 0.9416\n",
            "Model: \"sequential\"\n",
            "_________________________________________________________________\n",
            " Layer (type)                Output Shape              Param #   \n",
            "=================================================================\n",
            " conv2d (Conv2D)             (None, 148, 148, 32)      896       \n",
            "                                                                 \n",
            " max_pooling2d (MaxPooling2D  (None, 74, 74, 32)       0         \n",
            " )                                                               \n",
            "                                                                 \n",
            " conv2d_1 (Conv2D)           (None, 72, 72, 64)        18496     \n",
            "                                                                 \n",
            " max_pooling2d_1 (MaxPooling  (None, 36, 36, 64)       0         \n",
            " 2D)                                                             \n",
            "                                                                 \n",
            " conv2d_2 (Conv2D)           (None, 34, 34, 128)       73856     \n",
            "                                                                 \n",
            " max_pooling2d_2 (MaxPooling  (None, 17, 17, 128)      0         \n",
            " 2D)                                                             \n",
            "                                                                 \n",
            " conv2d_3 (Conv2D)           (None, 15, 15, 256)       295168    \n",
            "                                                                 \n",
            " max_pooling2d_3 (MaxPooling  (None, 7, 7, 256)        0         \n",
            " 2D)                                                             \n",
            "                                                                 \n",
            " dropout (Dropout)           (None, 7, 7, 256)         0         \n",
            "                                                                 \n",
            " flatten (Flatten)           (None, 12544)             0         \n",
            "                                                                 \n",
            " dense (Dense)               (None, 128)               1605760   \n",
            "                                                                 \n",
            " dropout_1 (Dropout)         (None, 128)               0         \n",
            "                                                                 \n",
            " dense_1 (Dense)             (None, 256)               33024     \n",
            "                                                                 \n",
            " dropout_2 (Dropout)         (None, 256)               0         \n",
            "                                                                 \n",
            " dense_2 (Dense)             (None, 2)                 514       \n",
            "                                                                 \n",
            "=================================================================\n",
            "Total params: 2,027,714\n",
            "Trainable params: 2,027,714\n",
            "Non-trainable params: 0\n",
            "_________________________________________________________________\n"
          ]
        }
      ]
    },
    {
      "cell_type": "code",
      "source": [
        "from sklearn.metrics import confusion_matrix\n",
        "import numpy as np\n",
        "import seaborn as sns\n",
        "import matplotlib.pyplot as plt\n",
        "\n",
        "# Predict result and True result of the test generator\n",
        "result = model.predict_generator(test_generator, verbose=0)\n",
        "y_true = test_generator.classes\n",
        "y_pred = np.argmax(result,axis=1)\n",
        "print(y_true)\n",
        "print(y_pred)\n",
        "\n",
        "# Confusion map\n",
        "cm = confusion_matrix(y_true, y_pred)\n",
        "ax = sns.heatmap(cm, annot=True, cmap='Blues')\n",
        "\n",
        "ax.set_xlabel('\\nPredicted Values')\n",
        "ax.set_ylabel('Actual Values ');\n",
        "\n",
        "ax.xaxis.set_ticklabels(['False','True'])\n",
        "ax.yaxis.set_ticklabels(['False','True'])\n",
        "\n",
        "plt.show()\n",
        "\n",
        "# Accuracy\n",
        "loss, acc = model.evaluate_generator(test_generator, verbose=0)\n",
        "print(\"  Accuracy: \", acc)"
      ],
      "metadata": {
        "colab": {
          "base_uri": "https://localhost:8080/",
          "height": 519
        },
        "id": "Be-aQ_-EIUlf",
        "outputId": "406f3f17-9438-4c60-b282-c03a38a2f889"
      },
      "execution_count": 16,
      "outputs": [
        {
          "output_type": "stream",
          "name": "stderr",
          "text": [
            "/usr/local/lib/python3.7/dist-packages/ipykernel_launcher.py:7: UserWarning: `Model.predict_generator` is deprecated and will be removed in a future version. Please use `Model.predict`, which supports generators.\n",
            "  import sys\n"
          ]
        },
        {
          "output_type": "stream",
          "name": "stdout",
          "text": [
            "[0 0 0 0 0 0 0 0 0 0 0 0 0 0 0 0 0 0 0 0 0 0 0 0 0 0 0 0 0 0 0 0 0 0 0 0 0\n",
            " 0 0 0 0 0 0 0 0 0 0 0 0 0 0 0 0 0 0 0 0 0 0 0 0 0 0 0 0 0 0 0 1 1 1 1 1 1\n",
            " 1 1 1 1 1 1 1 1 1 1 1 1 1 1 1 1 1 1 1 1 1 1 1 1 1 1 1 1 1 1 1 1 1 1 1 1 1\n",
            " 1 1 1 1 1 1 1 1 1 1 1 1 1 1 1 1 1 1 1 1 1 1 1 1 1 1]\n",
            "[0 0 0 0 0 0 0 0 0 0 0 0 1 1 0 0 0 0 0 0 0 0 0 0 0 0 0 0 0 0 0 0 0 1 0 0 0\n",
            " 0 0 0 0 0 0 0 0 0 0 1 0 0 0 0 0 0 1 0 0 0 0 0 0 0 0 0 1 0 0 0 1 1 1 1 1 1\n",
            " 1 1 1 1 1 1 1 1 1 1 1 1 1 1 1 1 1 1 1 1 1 1 1 1 1 1 1 1 1 1 1 1 1 1 1 1 1\n",
            " 1 1 1 1 1 1 1 1 1 1 1 1 1 1 1 1 1 1 1 1 1 1 0 1 0 1]\n"
          ]
        },
        {
          "output_type": "display_data",
          "data": {
            "text/plain": [
              "<Figure size 432x288 with 2 Axes>"
            ],
            "image/png": "[encoded data removed]"
          },
          "metadata": {
            "needs_background": "light"
          }
        },
        {
          "output_type": "stream",
          "name": "stderr",
          "text": [
            "/usr/local/lib/python3.7/dist-packages/ipykernel_launcher.py:26: UserWarning: `Model.evaluate_generator` is deprecated and will be removed in a future version. Please use `Model.evaluate`, which supports generators.\n"
          ]
        },
        {
          "output_type": "stream",
          "name": "stdout",
          "text": [
            "  Accuracy:  0.9416058659553528\n"
          ]
        }
      ]
    }
  ],
  "metadata": {
    "colab": {
      "provenance": [],
      "machine_shape": "hm"
    },
    "kernelspec": {
      "display_name": "Python 3",
      "name": "python3"
    },
    "language_info": {
      "name": "python"
    },
    "accelerator": "GPU",
    "gpuClass": "standard"
  },
  "nbformat": 4,
  "nbformat_minor": 0
}